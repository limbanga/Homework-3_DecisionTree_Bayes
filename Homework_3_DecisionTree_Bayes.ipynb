{
  "nbformat": 4,
  "nbformat_minor": 0,
  "metadata": {
    "colab": {
      "provenance": [],
      "toc_visible": true
    },
    "kernelspec": {
      "name": "python3",
      "display_name": "Python 3"
    },
    "language_info": {
      "name": "python"
    }
  },
  "cells": [
    {
      "cell_type": "markdown",
      "source": [
        "# Question 1\n",
        "---\n",
        "# Decision tree\n",
        "## Load dataset\n",
        "> You can download dataset here: [Dataset](https://drive.google.com/file/d/1pb6xQtyWTkbYPreFRfHCHPkYG3WGqWGW/view?usp=drive_link)"
      ],
      "metadata": {
        "id": "k2JKdtHQ-ISE"
      }
    },
    {
      "cell_type": "code",
      "source": [
        "import pandas as pd\n",
        "\n",
        "# Load the dataset from the CSV file\n",
        "# down dataset and load it to you project\n",
        "df = pd.read_csv('/content/dataset1.csv')\n",
        "\n",
        "# Print the first few rows of the dataset\n",
        "print(df.head())"
      ],
      "metadata": {
        "id": "oSksxEMm8avv"
      },
      "execution_count": null,
      "outputs": []
    },
    {
      "cell_type": "markdown",
      "source": [
        "## Clean data"
      ],
      "metadata": {
        "id": "HrCLHqAxAzYi"
      }
    },
    {
      "cell_type": "code",
      "source": [
        "# Mapping categorical variables to numerical values\n",
        "df['Age'] = df['Age'].map({'Youth': 0, 'Middle': 1, 'Senior': 2})\n",
        "df['Income'] = df['Income'].map({'Low': 0, 'Medium': 1, 'High': 2})\n",
        "df['Student'] = df['Student'].map({'No': 0, 'Yes': 1})\n",
        "df['Credit'] = df['Credit'].map({'Fair': 0, 'Excellent': 1})\n",
        "df['Target Buys Computer'] = df['Target Buys Computer'].map({'No': 0, 'Yes': 1})\n"
      ],
      "metadata": {
        "id": "QjWCNtzRASBU"
      },
      "execution_count": null,
      "outputs": []
    },
    {
      "cell_type": "code",
      "source": [
        "# Splitting features and target variable\n",
        "X = df.drop('Target Buys Computer', axis=1) # Features\n",
        "y = df['Target Buys Computer'] # Target"
      ],
      "metadata": {
        "id": "5mXll4m-A67t"
      },
      "execution_count": null,
      "outputs": []
    },
    {
      "cell_type": "code",
      "source": [
        "y"
      ],
      "metadata": {
        "colab": {
          "base_uri": "https://localhost:8080/"
        },
        "id": "F-YQQJrsAluR",
        "outputId": "771970fb-6143-4c9a-eaa5-d455a53b9d1e"
      },
      "execution_count": null,
      "outputs": [
        {
          "output_type": "execute_result",
          "data": {
            "text/plain": [
              "0     0\n",
              "1     0\n",
              "2     1\n",
              "3     1\n",
              "4     1\n",
              "5     0\n",
              "6     1\n",
              "7     0\n",
              "8     1\n",
              "9     1\n",
              "10    1\n",
              "11    1\n",
              "12    1\n",
              "13    0\n",
              "Name: Target Buys Computer, dtype: int64"
            ]
          },
          "metadata": {},
          "execution_count": 10
        }
      ]
    },
    {
      "cell_type": "markdown",
      "source": [
        "## Train model"
      ],
      "metadata": {
        "id": "d-J9GXCBBa5Y"
      }
    },
    {
      "cell_type": "code",
      "source": [
        "# Importing necessary libraries\n",
        "from sklearn.tree import DecisionTreeClassifier, export_text\n",
        "# Creating decision tree model\n",
        "model = DecisionTreeClassifier()\n",
        "\n",
        "# Fitting the model\n",
        "model.fit(X, y)\n",
        "\n",
        "# Printing decision tree rules\n",
        "tree_rules = export_text(model, feature_names=list(X.columns))\n",
        "print(tree_rules)"
      ],
      "metadata": {
        "colab": {
          "base_uri": "https://localhost:8080/"
        },
        "id": "suWyiOoH-tRE",
        "outputId": "02dc32d9-a068-4889-9f6f-98019b7dc326"
      },
      "execution_count": null,
      "outputs": [
        {
          "output_type": "stream",
          "name": "stdout",
          "text": [
            "|--- Student <= 0.50\n",
            "|   |--- Age <= 0.50\n",
            "|   |   |--- class: 0\n",
            "|   |--- Age >  0.50\n",
            "|   |   |--- Credit <= 0.50\n",
            "|   |   |   |--- class: 1\n",
            "|   |   |--- Credit >  0.50\n",
            "|   |   |   |--- Age <= 1.50\n",
            "|   |   |   |   |--- class: 1\n",
            "|   |   |   |--- Age >  1.50\n",
            "|   |   |   |   |--- class: 0\n",
            "|--- Student >  0.50\n",
            "|   |--- Age <= 1.50\n",
            "|   |   |--- class: 1\n",
            "|   |--- Age >  1.50\n",
            "|   |   |--- Credit <= 0.50\n",
            "|   |   |   |--- class: 1\n",
            "|   |   |--- Credit >  0.50\n",
            "|   |   |   |--- class: 0\n",
            "\n"
          ]
        }
      ]
    },
    {
      "cell_type": "markdown",
      "source": [
        "## Model evaluation\n"
      ],
      "metadata": {
        "id": "L6ydGDvoBvJw"
      }
    },
    {
      "cell_type": "markdown",
      "source": [
        "## Use model"
      ],
      "metadata": {
        "id": "UmeUA8JYCGAY"
      }
    },
    {
      "cell_type": "code",
      "source": [
        "# Age=youth, Income=medium, Student=yes, Credit_rating=fair\n",
        "data2Test = [[0, 1, 1, 0]]"
      ],
      "metadata": {
        "id": "3ijMgHYtFGKN"
      },
      "execution_count": 23,
      "outputs": []
    },
    {
      "cell_type": "code",
      "source": [
        "result = model.predict(data2Test)"
      ],
      "metadata": {
        "colab": {
          "base_uri": "https://localhost:8080/"
        },
        "id": "_8M7HmHPBe8w",
        "outputId": "e908d855-dc8c-4e81-ce3d-578ca7668f51"
      },
      "execution_count": 22,
      "outputs": [
        {
          "output_type": "stream",
          "name": "stderr",
          "text": [
            "/usr/local/lib/python3.10/dist-packages/sklearn/base.py:439: UserWarning: X does not have valid feature names, but GaussianNB was fitted with feature names\n",
            "  warnings.warn(\n"
          ]
        }
      ]
    },
    {
      "cell_type": "code",
      "source": [
        "print(result[0])\n",
        "# 1 => Buy computer"
      ],
      "metadata": {
        "colab": {
          "base_uri": "https://localhost:8080/"
        },
        "id": "rJabsLjABaDr",
        "outputId": "488f2da5-7640-4054-f3e9-341cf53f2e73"
      },
      "execution_count": null,
      "outputs": [
        {
          "output_type": "stream",
          "name": "stdout",
          "text": [
            "1\n"
          ]
        }
      ]
    },
    {
      "cell_type": "markdown",
      "source": [
        "# Naive Bayes classifier\n",
        "\n",
        "## Load Dataset, Clean data,... same above"
      ],
      "metadata": {
        "id": "WS4CaQaHEUR-"
      }
    },
    {
      "cell_type": "code",
      "source": [
        "from sklearn.naive_bayes import GaussianNB\n",
        "from sklearn.preprocessing import LabelEncoder\n",
        "\n",
        "# Creating Naive Bayes model\n",
        "model = GaussianNB()\n",
        "\n",
        "# Fitting the model\n",
        "model.fit(X, y)"
      ],
      "metadata": {
        "colab": {
          "base_uri": "https://localhost:8080/",
          "height": 74
        },
        "id": "ZQUli8E1DCvp",
        "outputId": "78b223f1-3c87-48df-e9f7-d5257a89ba19"
      },
      "execution_count": 25,
      "outputs": [
        {
          "output_type": "execute_result",
          "data": {
            "text/plain": [
              "GaussianNB()"
            ],
            "text/html": [
              "<style>#sk-container-id-1 {color: black;background-color: white;}#sk-container-id-1 pre{padding: 0;}#sk-container-id-1 div.sk-toggleable {background-color: white;}#sk-container-id-1 label.sk-toggleable__label {cursor: pointer;display: block;width: 100%;margin-bottom: 0;padding: 0.3em;box-sizing: border-box;text-align: center;}#sk-container-id-1 label.sk-toggleable__label-arrow:before {content: \"▸\";float: left;margin-right: 0.25em;color: #696969;}#sk-container-id-1 label.sk-toggleable__label-arrow:hover:before {color: black;}#sk-container-id-1 div.sk-estimator:hover label.sk-toggleable__label-arrow:before {color: black;}#sk-container-id-1 div.sk-toggleable__content {max-height: 0;max-width: 0;overflow: hidden;text-align: left;background-color: #f0f8ff;}#sk-container-id-1 div.sk-toggleable__content pre {margin: 0.2em;color: black;border-radius: 0.25em;background-color: #f0f8ff;}#sk-container-id-1 input.sk-toggleable__control:checked~div.sk-toggleable__content {max-height: 200px;max-width: 100%;overflow: auto;}#sk-container-id-1 input.sk-toggleable__control:checked~label.sk-toggleable__label-arrow:before {content: \"▾\";}#sk-container-id-1 div.sk-estimator input.sk-toggleable__control:checked~label.sk-toggleable__label {background-color: #d4ebff;}#sk-container-id-1 div.sk-label input.sk-toggleable__control:checked~label.sk-toggleable__label {background-color: #d4ebff;}#sk-container-id-1 input.sk-hidden--visually {border: 0;clip: rect(1px 1px 1px 1px);clip: rect(1px, 1px, 1px, 1px);height: 1px;margin: -1px;overflow: hidden;padding: 0;position: absolute;width: 1px;}#sk-container-id-1 div.sk-estimator {font-family: monospace;background-color: #f0f8ff;border: 1px dotted black;border-radius: 0.25em;box-sizing: border-box;margin-bottom: 0.5em;}#sk-container-id-1 div.sk-estimator:hover {background-color: #d4ebff;}#sk-container-id-1 div.sk-parallel-item::after {content: \"\";width: 100%;border-bottom: 1px solid gray;flex-grow: 1;}#sk-container-id-1 div.sk-label:hover label.sk-toggleable__label {background-color: #d4ebff;}#sk-container-id-1 div.sk-serial::before {content: \"\";position: absolute;border-left: 1px solid gray;box-sizing: border-box;top: 0;bottom: 0;left: 50%;z-index: 0;}#sk-container-id-1 div.sk-serial {display: flex;flex-direction: column;align-items: center;background-color: white;padding-right: 0.2em;padding-left: 0.2em;position: relative;}#sk-container-id-1 div.sk-item {position: relative;z-index: 1;}#sk-container-id-1 div.sk-parallel {display: flex;align-items: stretch;justify-content: center;background-color: white;position: relative;}#sk-container-id-1 div.sk-item::before, #sk-container-id-1 div.sk-parallel-item::before {content: \"\";position: absolute;border-left: 1px solid gray;box-sizing: border-box;top: 0;bottom: 0;left: 50%;z-index: -1;}#sk-container-id-1 div.sk-parallel-item {display: flex;flex-direction: column;z-index: 1;position: relative;background-color: white;}#sk-container-id-1 div.sk-parallel-item:first-child::after {align-self: flex-end;width: 50%;}#sk-container-id-1 div.sk-parallel-item:last-child::after {align-self: flex-start;width: 50%;}#sk-container-id-1 div.sk-parallel-item:only-child::after {width: 0;}#sk-container-id-1 div.sk-dashed-wrapped {border: 1px dashed gray;margin: 0 0.4em 0.5em 0.4em;box-sizing: border-box;padding-bottom: 0.4em;background-color: white;}#sk-container-id-1 div.sk-label label {font-family: monospace;font-weight: bold;display: inline-block;line-height: 1.2em;}#sk-container-id-1 div.sk-label-container {text-align: center;}#sk-container-id-1 div.sk-container {/* jupyter's `normalize.less` sets `[hidden] { display: none; }` but bootstrap.min.css set `[hidden] { display: none !important; }` so we also need the `!important` here to be able to override the default hidden behavior on the sphinx rendered scikit-learn.org. See: https://github.com/scikit-learn/scikit-learn/issues/21755 */display: inline-block !important;position: relative;}#sk-container-id-1 div.sk-text-repr-fallback {display: none;}</style><div id=\"sk-container-id-1\" class=\"sk-top-container\"><div class=\"sk-text-repr-fallback\"><pre>GaussianNB()</pre><b>In a Jupyter environment, please rerun this cell to show the HTML representation or trust the notebook. <br />On GitHub, the HTML representation is unable to render, please try loading this page with nbviewer.org.</b></div><div class=\"sk-container\" hidden><div class=\"sk-item\"><div class=\"sk-estimator sk-toggleable\"><input class=\"sk-toggleable__control sk-hidden--visually\" id=\"sk-estimator-id-1\" type=\"checkbox\" checked><label for=\"sk-estimator-id-1\" class=\"sk-toggleable__label sk-toggleable__label-arrow\">GaussianNB</label><div class=\"sk-toggleable__content\"><pre>GaussianNB()</pre></div></div></div></div></div>"
            ]
          },
          "metadata": {},
          "execution_count": 25
        }
      ]
    },
    {
      "cell_type": "code",
      "source": [
        "# Predicting with the model\n",
        "predrictions = model.predict(data2Test)\n",
        "\n",
        "# Printing predictions\n",
        "print(predrictions[0])\n",
        "# 1 = Buy computer"
      ],
      "metadata": {
        "colab": {
          "base_uri": "https://localhost:8080/"
        },
        "id": "orpHN7mODM93",
        "outputId": "d6d4ccc5-41c9-4a90-aa07-d0311dfc4c22"
      },
      "execution_count": 31,
      "outputs": [
        {
          "output_type": "stream",
          "name": "stdout",
          "text": [
            "1\n"
          ]
        },
        {
          "output_type": "stream",
          "name": "stderr",
          "text": [
            "/usr/local/lib/python3.10/dist-packages/sklearn/base.py:439: UserWarning: X does not have valid feature names, but GaussianNB was fitted with feature names\n",
            "  warnings.warn(\n"
          ]
        }
      ]
    }
  ]
}